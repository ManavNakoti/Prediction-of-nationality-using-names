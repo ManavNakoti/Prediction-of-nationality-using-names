{
 "cells": [
  {
   "cell_type": "code",
   "execution_count": 1,
   "id": "1cfb1cc3-6378-46e6-9643-2bd53436efe6",
   "metadata": {},
   "outputs": [
    {
     "name": "stdout",
     "output_type": "stream",
     "text": [
      "Requirement already satisfied: pycountry in c:\\users\\user\\anaconda3\\lib\\site-packages (22.3.5)Note: you may need to restart the kernel to use updated packages.\n",
      "\n",
      "Requirement already satisfied: setuptools in c:\\users\\user\\anaconda3\\lib\\site-packages (from pycountry) (63.4.1)\n"
     ]
    }
   ],
   "source": [
    "pip install pycountry"
   ]
  },
  {
   "cell_type": "code",
   "execution_count": 1,
   "id": "9fa84992-4081-4ddd-a2ef-d4229c8bccce",
   "metadata": {},
   "outputs": [
    {
     "name": "stdout",
     "output_type": "stream",
     "text": [
      "                      Name Country\n",
      "0              Amy Johnson      AE\n",
      "1            Thomas Wright      AE\n",
      "2         Marco Flores DDS      AE\n",
      "3           Marcus Robbins      AE\n",
      "4         Susan Montgomery      AE\n",
      "...                    ...     ...\n",
      "369423            Yang Lu       TW\n",
      "369424           Liu Yuxin      TW\n",
      "369425        Wu Wei Ting       TW\n",
      "369426         Li Shuting       TW\n",
      "369427          Sujiarong       TW\n",
      "\n",
      "[369428 rows x 2 columns]\n",
      "                      Name                    Country\n",
      "0              Amy Johnson       United Arab Emirates\n",
      "1            Thomas Wright       United Arab Emirates\n",
      "2         Marco Flores DDS       United Arab Emirates\n",
      "3           Marcus Robbins       United Arab Emirates\n",
      "4         Susan Montgomery       United Arab Emirates\n",
      "...                    ...                        ...\n",
      "369423            Yang Lu   Taiwan, Province of China\n",
      "369424           Liu Yuxin  Taiwan, Province of China\n",
      "369425        Wu Wei Ting   Taiwan, Province of China\n",
      "369426         Li Shuting   Taiwan, Province of China\n",
      "369427          Sujiarong   Taiwan, Province of China\n",
      "\n",
      "[369428 rows x 2 columns]\n"
     ]
    }
   ],
   "source": [
    "import pandas as pd\n",
    "import pycountry\n",
    "\n",
    "# Read the CSV file into a DataFrame\n",
    "data = pd.read_csv('name.csv')\n",
    "print(data)\n",
    "\n",
    "country_codes = data['Country']\n",
    "\n",
    "# Function to convert country code to country name\n",
    "def code_to_name(country_code):\n",
    "    try:\n",
    "        country = pycountry.countries.get(alpha_2=country_code)\n",
    "        return country.name\n",
    "    except AttributeError:\n",
    "        # Handle the case where the country code is not valid\n",
    "        return \"Unknown\"\n",
    "\n",
    "# Replace the existing 'Country' column with country names\n",
    "data['Country'] = country_codes.apply(code_to_name)\n",
    "\n",
    "# Display the updated DataFrame\n",
    "print(data)\n",
    "\n",
    "# Save the updated DataFrame to a new CSV file\n",
    "data.to_csv('Country_full.csv', index=False)\n"
   ]
  },
  {
   "cell_type": "code",
   "execution_count": null,
   "id": "f6c26af3-6260-492c-9fc6-26df3d99b336",
   "metadata": {},
   "outputs": [],
   "source": []
  },
  {
   "cell_type": "code",
   "execution_count": null,
   "id": "375011f3-0aa2-498e-87eb-68b174a0acc1",
   "metadata": {},
   "outputs": [],
   "source": []
  }
 ],
 "metadata": {
  "kernelspec": {
   "display_name": "Python 3 (ipykernel)",
   "language": "python",
   "name": "python3"
  },
  "language_info": {
   "codemirror_mode": {
    "name": "ipython",
    "version": 3
   },
   "file_extension": ".py",
   "mimetype": "text/x-python",
   "name": "python",
   "nbconvert_exporter": "python",
   "pygments_lexer": "ipython3",
   "version": "3.9.13"
  }
 },
 "nbformat": 4,
 "nbformat_minor": 5
}
